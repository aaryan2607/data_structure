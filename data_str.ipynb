{
 "cells": [
  {
   "cell_type": "code",
   "execution_count": 1,
   "id": "edbbbce5-ae57-4f6f-bcdc-7cadb4b451cd",
   "metadata": {},
   "outputs": [
    {
     "data": {
      "text/plain": [
       "'a'"
      ]
     },
     "execution_count": 1,
     "metadata": {},
     "output_type": "execute_result"
    }
   ],
   "source": [
    "# Q1 Discuss string slicing and provide examples.\n",
    "\n",
    "# A string is a sequence of chracters used to represent text, a string is considered a data type that is used to store and manipulate text based data\n",
    "#String Slicing is a technique of extracting a portion of string in a precise manner.It is done using a square brackets[].\n",
    "# String slicing is feature that allows you to efficiently manipulate and extracts parts of strings.\n",
    "\n",
    "#Examples\n",
    "#    -6-5-4-3-2-1      \n",
    "a = \"aaryan\"\n",
    "#    123456\n",
    "a[0]"
   ]
  },
  {
   "cell_type": "code",
   "execution_count": 2,
   "id": "f511dc47-a45d-4988-ada0-1852a0f58c81",
   "metadata": {},
   "outputs": [
    {
     "data": {
      "text/plain": [
       "'n'"
      ]
     },
     "execution_count": 2,
     "metadata": {},
     "output_type": "execute_result"
    }
   ],
   "source": [
    "a[5]"
   ]
  },
  {
   "cell_type": "code",
   "execution_count": 3,
   "id": "6b52dbfd-fd32-4fd9-bddc-cf3a0d8e7821",
   "metadata": {},
   "outputs": [
    {
     "data": {
      "text/plain": [
       "'a'"
      ]
     },
     "execution_count": 3,
     "metadata": {},
     "output_type": "execute_result"
    }
   ],
   "source": [
    "a[-2]"
   ]
  },
  {
   "cell_type": "code",
   "execution_count": 4,
   "id": "7c79f862-aa6a-4321-bbc6-82cf6f47dd5f",
   "metadata": {},
   "outputs": [
    {
     "ename": "IndexError",
     "evalue": "string index out of range",
     "output_type": "error",
     "traceback": [
      "\u001b[0;31m---------------------------------------------------------------------------\u001b[0m",
      "\u001b[0;31mIndexError\u001b[0m                                Traceback (most recent call last)",
      "Cell \u001b[0;32mIn[4], line 1\u001b[0m\n\u001b[0;32m----> 1\u001b[0m \u001b[43ma\u001b[49m\u001b[43m[\u001b[49m\u001b[38;5;241;43m7\u001b[39;49m\u001b[43m]\u001b[49m\u001b[38;5;66;03m#it will throw a error because 7th index does not exist.\u001b[39;00m\n",
      "\u001b[0;31mIndexError\u001b[0m: string index out of range"
     ]
    }
   ],
   "source": [
    "a[7]#it will throw a error because 7th index does not exist."
   ]
  },
  {
   "cell_type": "code",
   "execution_count": 5,
   "id": "ff2dba25-5546-4b8a-87bf-cd79c35c5e01",
   "metadata": {},
   "outputs": [
    {
     "data": {
      "text/plain": [
       "'i am a student'"
      ]
     },
     "execution_count": 5,
     "metadata": {},
     "output_type": "execute_result"
    }
   ],
   "source": [
    "i = \"i am a student\"\n",
    "i"
   ]
  },
  {
   "cell_type": "code",
   "execution_count": 6,
   "id": "9bdc693f-b26b-476c-a9a4-2aa4c73d3a5f",
   "metadata": {},
   "outputs": [
    {
     "data": {
      "text/plain": [
       "'i am'"
      ]
     },
     "execution_count": 6,
     "metadata": {},
     "output_type": "execute_result"
    }
   ],
   "source": [
    "i[0:4]\n",
    "#i[start_index:end_index]"
   ]
  },
  {
   "cell_type": "code",
   "execution_count": 9,
   "id": "005923dc-19fc-487f-a60f-01dddf840932",
   "metadata": {},
   "outputs": [
    {
     "data": {
      "text/plain": [
       "'am a student'"
      ]
     },
     "execution_count": 9,
     "metadata": {},
     "output_type": "execute_result"
    }
   ],
   "source": [
    "i[2:]#if you does'nt provide end_index it will by default gives substring till the last index."
   ]
  },
  {
   "cell_type": "code",
   "execution_count": 11,
   "id": "302a5dce-dee5-4995-9680-3e7b7665d837",
   "metadata": {},
   "outputs": [
    {
     "data": {
      "text/plain": [
       "'i am '"
      ]
     },
     "execution_count": 11,
     "metadata": {},
     "output_type": "execute_result"
    }
   ],
   "source": [
    "i[:5]#if you does'nt provide start_index it will by default gives substring from the first index."
   ]
  },
  {
   "cell_type": "code",
   "execution_count": 12,
   "id": "6c8408e2-571e-4324-b54e-334a65dd0f50",
   "metadata": {},
   "outputs": [
    {
     "data": {
      "text/plain": [
       "'datascience'"
      ]
     },
     "execution_count": 12,
     "metadata": {},
     "output_type": "execute_result"
    }
   ],
   "source": [
    "b = \"datascience\"\n",
    "b"
   ]
  },
  {
   "cell_type": "code",
   "execution_count": 13,
   "id": "6ff1177c-411b-4178-8bc6-e277aead31b1",
   "metadata": {},
   "outputs": [
    {
     "data": {
      "text/plain": [
       "'s'"
      ]
     },
     "execution_count": 13,
     "metadata": {},
     "output_type": "execute_result"
    }
   ],
   "source": [
    "b[-7]"
   ]
  },
  {
   "cell_type": "code",
   "execution_count": 14,
   "id": "7bf8c907-8b3f-4292-b75c-b4c08e1c815b",
   "metadata": {},
   "outputs": [
    {
     "data": {
      "text/plain": [
       "'d'"
      ]
     },
     "execution_count": 14,
     "metadata": {},
     "output_type": "execute_result"
    }
   ],
   "source": [
    "b[0]"
   ]
  },
  {
   "cell_type": "code",
   "execution_count": 15,
   "id": "cb2c0e2e-a71d-4f0d-aa0a-db61a76b7427",
   "metadata": {},
   "outputs": [
    {
     "data": {
      "text/plain": [
       "'nce'"
      ]
     },
     "execution_count": 15,
     "metadata": {},
     "output_type": "execute_result"
    }
   ],
   "source": [
    "#if you want only last three chracters\n",
    "b[8:]"
   ]
  },
  {
   "cell_type": "code",
   "execution_count": 16,
   "id": "b246eda5-aa09-4b55-8f48-61247808a2ab",
   "metadata": {},
   "outputs": [
    {
     "data": {
      "text/plain": [
       "'datascien'"
      ]
     },
     "execution_count": 16,
     "metadata": {},
     "output_type": "execute_result"
    }
   ],
   "source": [
    "#if you want all chracters except the last two chracters.\n",
    "b[0:-2]"
   ]
  },
  {
   "cell_type": "code",
   "execution_count": 17,
   "id": "c7353029-eb03-4041-8383-4f68af481cf4",
   "metadata": {},
   "outputs": [
    {
     "data": {
      "text/plain": [
       "'hello there'"
      ]
     },
     "execution_count": 17,
     "metadata": {},
     "output_type": "execute_result"
    }
   ],
   "source": [
    "j = \"hello there\"\n",
    "j"
   ]
  },
  {
   "cell_type": "code",
   "execution_count": 25,
   "id": "94849cc8-7683-40d8-a852-a588e2d3291f",
   "metadata": {},
   "outputs": [
    {
     "data": {
      "text/plain": [
       "'hello'"
      ]
     },
     "execution_count": 25,
     "metadata": {},
     "output_type": "execute_result"
    }
   ],
   "source": [
    "#if you want step between the words then\n",
    "j[0:5:1]#the step is 1 by default\n",
    "#j[start:end:step]"
   ]
  },
  {
   "cell_type": "code",
   "execution_count": 23,
   "id": "5d0e0d35-f494-4f6b-a02b-36fbabe8748c",
   "metadata": {},
   "outputs": [
    {
     "data": {
      "text/plain": [
       "'hlo'"
      ]
     },
     "execution_count": 23,
     "metadata": {},
     "output_type": "execute_result"
    }
   ],
   "source": [
    "j[0:5:2]\n",
    "#if you want a step to skipped\n",
    "# hello\n",
    "# 12345\n",
    "# 1-3-5"
   ]
  },
  {
   "cell_type": "code",
   "execution_count": 24,
   "id": "a7f6046b-6c2d-439d-85ba-3c9c610d185b",
   "metadata": {},
   "outputs": [
    {
     "data": {
      "text/plain": [
       "'hlotee'"
      ]
     },
     "execution_count": 24,
     "metadata": {},
     "output_type": "execute_result"
    }
   ],
   "source": [
    "j[::2]"
   ]
  },
  {
   "cell_type": "code",
   "execution_count": 26,
   "id": "90b95a5e-2f43-4ca1-8852-f80e55b5e1bf",
   "metadata": {},
   "outputs": [
    {
     "data": {
      "text/plain": [
       "'ereht olleh'"
      ]
     },
     "execution_count": 26,
     "metadata": {},
     "output_type": "execute_result"
    }
   ],
   "source": [
    "#if you want sequence in reverse order.\n",
    "j[::-1]"
   ]
  },
  {
   "cell_type": "code",
   "execution_count": 27,
   "id": "3fdd80f4-6760-400d-82d8-58842bb830f4",
   "metadata": {},
   "outputs": [],
   "source": [
    "# Q2 Explain the key features of lists in Python.\n",
    "# List is a ordered collection of items.There are many key features of list:-\n",
    "\n",
    "#1.Lists are mutable. You can change thier elements after they have created.We can add more items to the list after the creation.This allows\n",
    "#operations like appending and inserting.\n",
    "\n",
    "#2.Lists maintain the order of elements in ehich they are added.It is a proper ordered coolection of elementsand it preserve the order \n",
    "#unless explicitly changed.\n",
    "\n",
    "#3.Lists also allow the duplication of the elements that are inserted.Each element in a list has a specific position that can be accessed.\n",
    "\n",
    "#4. Lists are hetrogeneous means it can contain items of different types.for example a single list can contain integers, strings and even \n",
    "#others list.\n",
    "\n",
    "#5.Items in lists are accessed.for example a list has four items if you have to access first item then you have to write list_name[0] , \n",
    "# 0 because the counting starts from zero.\n",
    "\n",
    "#6.Python supports list comprehensions\n",
    "\n",
    "#7.Lists supports shallow copy in which the value will change with change in other list.for example we have a list now we make another list \n",
    "# which is equal to the first list so when the second list undergo any change the first list will also change.\n",
    "\n",
    "#8.Lists also supports deep copy in which the value will not change  with change in the other list."
   ]
  },
  {
   "cell_type": "code",
   "execution_count": 28,
   "id": "8ad71871-aeb1-4aaf-b749-987d78ca2fc3",
   "metadata": {},
   "outputs": [],
   "source": [
    "#Q3.Describe how to access,modify and delete elements in a list with example.\n",
    "\n",
    "#For access a item in list\n",
    "shoping_list = [\"flour\",\"candy\",\"choclates\",\"milk\",2,3,4.56,5+7j]"
   ]
  },
  {
   "cell_type": "code",
   "execution_count": 29,
   "id": "66fa42a5-33d8-472f-b2cb-b5207e6ed99c",
   "metadata": {},
   "outputs": [
    {
     "data": {
      "text/plain": [
       "['flour', 'candy', 'choclates', 'milk', 2, 3, 4.56, (5+7j)]"
      ]
     },
     "execution_count": 29,
     "metadata": {},
     "output_type": "execute_result"
    }
   ],
   "source": [
    "shoping_list"
   ]
  },
  {
   "cell_type": "code",
   "execution_count": 30,
   "id": "595a01b4-b473-4193-8e97-955af0631072",
   "metadata": {},
   "outputs": [
    {
     "data": {
      "text/plain": [
       "'candy'"
      ]
     },
     "execution_count": 30,
     "metadata": {},
     "output_type": "execute_result"
    }
   ],
   "source": [
    "shoping_list[1]"
   ]
  },
  {
   "cell_type": "code",
   "execution_count": 31,
   "id": "adb79f7d-f38d-42a2-ac8a-5a059ad494c3",
   "metadata": {},
   "outputs": [
    {
     "data": {
      "text/plain": [
       "'milk'"
      ]
     },
     "execution_count": 31,
     "metadata": {},
     "output_type": "execute_result"
    }
   ],
   "source": [
    "shoping_list[-5]"
   ]
  },
  {
   "cell_type": "code",
   "execution_count": 33,
   "id": "6e5873ff-cc78-46ca-8760-bcebdb89daa1",
   "metadata": {},
   "outputs": [
    {
     "data": {
      "text/plain": [
       "(5+7j)"
      ]
     },
     "execution_count": 33,
     "metadata": {},
     "output_type": "execute_result"
    }
   ],
   "source": [
    "shoping_list[7]"
   ]
  },
  {
   "cell_type": "code",
   "execution_count": 34,
   "id": "ceb92408-3b84-4200-b726-8b366a09d816",
   "metadata": {},
   "outputs": [
    {
     "data": {
      "text/plain": [
       "3"
      ]
     },
     "execution_count": 34,
     "metadata": {},
     "output_type": "execute_result"
    }
   ],
   "source": [
    "shoping_list[-3]"
   ]
  },
  {
   "cell_type": "code",
   "execution_count": 46,
   "id": "8660b147-af5f-4cde-b0c1-6cd038501d3b",
   "metadata": {},
   "outputs": [
    {
     "data": {
      "text/plain": [
       "['flour', 'candy', 'choclates', 'milk', 2, 3, 4.56, (5+7j), 'tomato']"
      ]
     },
     "execution_count": 46,
     "metadata": {},
     "output_type": "execute_result"
    }
   ],
   "source": [
    "#for modifying the list\n",
    "#for adding a element\n",
    "shoping_list.append(\"tomato\")\n",
    "shoping_list"
   ]
  },
  {
   "cell_type": "code",
   "execution_count": 47,
   "id": "033cc8e7-df81-4c98-8749-55934b4d3a01",
   "metadata": {},
   "outputs": [],
   "source": [
    "#tomato will be adde to the list"
   ]
  },
  {
   "cell_type": "code",
   "execution_count": 48,
   "id": "2ef6da03-c15c-4b7a-9426-b1f46c833110",
   "metadata": {},
   "outputs": [
    {
     "data": {
      "text/plain": [
       "['flour', 'candy', 'choclates', 'potato', 'milk', 2, 3, 4.56, (5+7j), 'tomato']"
      ]
     },
     "execution_count": 48,
     "metadata": {},
     "output_type": "execute_result"
    }
   ],
   "source": [
    "#for inserting at specific position\n",
    "shoping_list.insert(3,\"potato\")\n",
    "shoping_list"
   ]
  },
  {
   "cell_type": "code",
   "execution_count": 49,
   "id": "4807514a-3375-4597-83b4-bba893bcd400",
   "metadata": {},
   "outputs": [],
   "source": [
    "#potato will be added at thitd index"
   ]
  },
  {
   "cell_type": "code",
   "execution_count": 50,
   "id": "4d9007e2-97c6-4100-ba6c-3222c7bdd815",
   "metadata": {},
   "outputs": [
    {
     "data": {
      "text/plain": [
       "['flour', 'candy', 'choclates', 'potato', 2, 3, 4.56, (5+7j), 'tomato']"
      ]
     },
     "execution_count": 50,
     "metadata": {},
     "output_type": "execute_result"
    }
   ],
   "source": [
    "#for removing\n",
    "shoping_list.remove(\"milk\")\n",
    "shoping_list"
   ]
  },
  {
   "cell_type": "code",
   "execution_count": 51,
   "id": "bfb41827-3b7c-4b36-bc61-803a31390b58",
   "metadata": {},
   "outputs": [],
   "source": [
    "#milk will be removed"
   ]
  },
  {
   "cell_type": "code",
   "execution_count": 52,
   "id": "82f99809-f975-4784-8df3-17535a447b35",
   "metadata": {},
   "outputs": [],
   "source": [
    "#append is also used for extending the list for example we have two lists that are\n",
    "fruits_list = ['mango', 'banana', 'kiwi', 'apple']\n",
    "vegies_list = ['brinjal','potato','tomato','ladyfinger']\n",
    "fruits_list.append(vegies_list)#extemds first list"
   ]
  },
  {
   "cell_type": "code",
   "execution_count": 53,
   "id": "8f2416ed-2f76-4791-9cb9-438ccfe78837",
   "metadata": {},
   "outputs": [
    {
     "data": {
      "text/plain": [
       "['mango',\n",
       " 'banana',\n",
       " 'kiwi',\n",
       " 'apple',\n",
       " ['brinjal', 'potato', 'tomato', 'ladyfinger']]"
      ]
     },
     "execution_count": 53,
     "metadata": {},
     "output_type": "execute_result"
    }
   ],
   "source": [
    "fruits_list"
   ]
  },
  {
   "cell_type": "code",
   "execution_count": 54,
   "id": "f9d9cd68-3bc9-4347-9ad7-ef2c370d72a6",
   "metadata": {},
   "outputs": [],
   "source": [
    "vegies_list.append(fruits_list)"
   ]
  },
  {
   "cell_type": "code",
   "execution_count": 55,
   "id": "7dcc79b6-b65c-4bc6-a8f7-4f4f5f3c9fa0",
   "metadata": {},
   "outputs": [
    {
     "data": {
      "text/plain": [
       "['brinjal',\n",
       " 'potato',\n",
       " 'tomato',\n",
       " 'ladyfinger',\n",
       " ['mango', 'banana', 'kiwi', 'apple', [...]]]"
      ]
     },
     "execution_count": 55,
     "metadata": {},
     "output_type": "execute_result"
    }
   ],
   "source": [
    "vegies_list"
   ]
  },
  {
   "cell_type": "code",
   "execution_count": 56,
   "id": "e12ab71b-65ff-44e2-815d-f3d3aa575ba6",
   "metadata": {},
   "outputs": [],
   "source": [
    "# Q4 Compare and contrast tuples and lists with examples.\n",
    "\n",
    "# Tuples and lists are both data structures in python used to store collection of items, but they have several key diffrences which are\n",
    "\n",
    "# Mutability :- Tuples are immutable whereas lists are immutable means in tuples once they are created the items of tuples can not be \n",
    "#modify,add and remove whereas in lists after the creation elements can be added, removed and modified\n",
    "\n",
    "# Tuples are defined using paraenthesis which is \"()\" and lists are defined using square brackets which are \"[]\".\n",
    "\n",
    "# Tuples are used where you don't havr to change anything after creation and lists are used where ypu have to change the data after the \n",
    "#creation of lists.\n",
    "\n",
    "# Tuples are generally faster than the lists for accessing elements because they are immutable and thier size and contents are fixed."
   ]
  },
  {
   "cell_type": "code",
   "execution_count": 61,
   "id": "aafc3820-f0ba-4da6-8772-b66ee5c6740e",
   "metadata": {},
   "outputs": [],
   "source": [
    "#Examples\n",
    "# let say a tuple\n",
    "tuple1 = (\"parrot\",\"chicken\",\"owl\",\"falcon\",2,1,1,3.3,4,8+9j)"
   ]
  },
  {
   "cell_type": "code",
   "execution_count": 58,
   "id": "74b13470-0c20-4340-862f-c732fc49f154",
   "metadata": {},
   "outputs": [
    {
     "data": {
      "text/plain": [
       "tuple"
      ]
     },
     "execution_count": 58,
     "metadata": {},
     "output_type": "execute_result"
    }
   ],
   "source": [
    "type(tuple1)"
   ]
  },
  {
   "cell_type": "code",
   "execution_count": 59,
   "id": "6cca19fa-3a92-4206-b982-90a98026b255",
   "metadata": {},
   "outputs": [
    {
     "data": {
      "text/plain": [
       "'falcon'"
      ]
     },
     "execution_count": 59,
     "metadata": {},
     "output_type": "execute_result"
    }
   ],
   "source": [
    "tuple1[3]"
   ]
  },
  {
   "cell_type": "code",
   "execution_count": 60,
   "id": "9a90092d-cfd2-4233-a328-78a85927ce1e",
   "metadata": {},
   "outputs": [
    {
     "ename": "TypeError",
     "evalue": "'tuple' object does not support item assignment",
     "output_type": "error",
     "traceback": [
      "\u001b[0;31m---------------------------------------------------------------------------\u001b[0m",
      "\u001b[0;31mTypeError\u001b[0m                                 Traceback (most recent call last)",
      "Cell \u001b[0;32mIn[60], line 1\u001b[0m\n\u001b[0;32m----> 1\u001b[0m \u001b[43mtuple1\u001b[49m\u001b[43m[\u001b[49m\u001b[38;5;241;43m3\u001b[39;49m\u001b[43m]\u001b[49m\u001b[38;5;241m=\u001b[39m\u001b[38;5;124m\"\u001b[39m\u001b[38;5;124mbird\u001b[39m\u001b[38;5;124m\"\u001b[39m\n",
      "\u001b[0;31mTypeError\u001b[0m: 'tuple' object does not support item assignment"
     ]
    }
   ],
   "source": [
    "tuple1[3]=\"bird\"#it will throw a error because tuples are immutable"
   ]
  },
  {
   "cell_type": "code",
   "execution_count": 62,
   "id": "7df2ea74-7104-4ddc-9eeb-1c9466555db2",
   "metadata": {},
   "outputs": [
    {
     "data": {
      "text/plain": [
       "1"
      ]
     },
     "execution_count": 62,
     "metadata": {},
     "output_type": "execute_result"
    }
   ],
   "source": [
    "# now if we have to find out how many times elements exist in tuple then\n",
    "tuple1.count(\"falcon\")"
   ]
  },
  {
   "cell_type": "code",
   "execution_count": 64,
   "id": "a7a4d75c-301f-4f14-a2a5-5e0f136c2cd9",
   "metadata": {},
   "outputs": [
    {
     "data": {
      "text/plain": [
       "2"
      ]
     },
     "execution_count": 64,
     "metadata": {},
     "output_type": "execute_result"
    }
   ],
   "source": [
    "tuple1.count(1)"
   ]
  },
  {
   "cell_type": "code",
   "execution_count": 2,
   "id": "536a6522-35c9-4b3b-8ecb-b39a523405e2",
   "metadata": {},
   "outputs": [],
   "source": [
    "#now list\n",
    "l = [\"parrot\",\"chicken\",\"owl\",\"falcon\",2,1,1,3.3,4,8+9j]"
   ]
  },
  {
   "cell_type": "code",
   "execution_count": 66,
   "id": "fb1c81a3-5cac-4213-95c4-639188b1cff1",
   "metadata": {},
   "outputs": [
    {
     "data": {
      "text/plain": [
       "['parrot', 'chicken', 'owl', 'falcon', 2, 1, 1, 3.3, 4, (8+9j)]"
      ]
     },
     "execution_count": 66,
     "metadata": {},
     "output_type": "execute_result"
    }
   ],
   "source": [
    "l"
   ]
  },
  {
   "cell_type": "code",
   "execution_count": 67,
   "id": "1b30b95b-7aad-426b-9ad0-cf47a04d3bb1",
   "metadata": {},
   "outputs": [],
   "source": [
    "l.append(\"bird\")"
   ]
  },
  {
   "cell_type": "code",
   "execution_count": 68,
   "id": "ab0af1d2-71c8-44c1-bf65-16874da3f2e6",
   "metadata": {},
   "outputs": [
    {
     "data": {
      "text/plain": [
       "['parrot', 'chicken', 'owl', 'falcon', 2, 1, 1, 3.3, 4, (8+9j), 'bird']"
      ]
     },
     "execution_count": 68,
     "metadata": {},
     "output_type": "execute_result"
    }
   ],
   "source": [
    "l"
   ]
  },
  {
   "cell_type": "code",
   "execution_count": null,
   "id": "cfbcbd3c-70af-4a25-aebf-d7cb4d048303",
   "metadata": {},
   "outputs": [],
   "source": [
    "#it is added because list is mutable\n",
    "l.remove(\"bird\")"
   ]
  },
  {
   "cell_type": "code",
   "execution_count": 3,
   "id": "bfe3afc1-c8e2-433a-bfae-52be5cb99c87",
   "metadata": {},
   "outputs": [
    {
     "data": {
      "text/plain": [
       "['parrot', 'chicken', 'owl', 'falcon', 2, 1, 1, 3.3, 4, (8+9j)]"
      ]
     },
     "execution_count": 3,
     "metadata": {},
     "output_type": "execute_result"
    }
   ],
   "source": [
    "l#removed because lists are mutable"
   ]
  },
  {
   "cell_type": "code",
   "execution_count": 4,
   "id": "e65f7669-1f44-40cb-9478-22244bab8f74",
   "metadata": {},
   "outputs": [],
   "source": [
    "#Q5 Describe the key features of sets and provoide emamples of their use.\n",
    "\n",
    "#Sets are fundamental data structures.There are many key features of sets :\n",
    "\n",
    "#Sets are mutable it means that the after the creation of sets it can be modified.We can add or remove elements from sets after the creation\n",
    "#but set inside set must be immutable.\n",
    "\n",
    "# A set is a collection of distinct objects.This means there is no repetetion of elements or no two elements in sets are identical.\n",
    "\n",
    "#Sets supports various operations such as union,intersection,difference and symmetric diffrence.\n",
    "#Union: combine elements from two sets excluding duplicates\n",
    "#Intersection:only common elements between sets\n",
    "#diffrence: return the elements that is present in first set and not in second\n",
    "#symmetric difference: returns elements that are present in either of sets but not in both"
   ]
  },
  {
   "cell_type": "code",
   "execution_count": 5,
   "id": "aad2d0aa-fc9a-45dc-aec9-9d6d6e44d009",
   "metadata": {},
   "outputs": [],
   "source": [
    "s = {5,5,10,10,20,20,20,30,30,50,40,40}"
   ]
  },
  {
   "cell_type": "code",
   "execution_count": 6,
   "id": "b8f5e730-2970-4406-aaa7-ea6521cf0603",
   "metadata": {},
   "outputs": [
    {
     "data": {
      "text/plain": [
       "{5, 10, 20, 30, 40, 50}"
      ]
     },
     "execution_count": 6,
     "metadata": {},
     "output_type": "execute_result"
    }
   ],
   "source": [
    "s#there is no identical items."
   ]
  },
  {
   "cell_type": "code",
   "execution_count": 7,
   "id": "6d88e64d-da8c-4bf5-be95-792b0ed15de8",
   "metadata": {},
   "outputs": [
    {
     "ename": "TypeError",
     "evalue": "unhashable type: 'set'",
     "output_type": "error",
     "traceback": [
      "\u001b[0;31m---------------------------------------------------------------------------\u001b[0m",
      "\u001b[0;31mTypeError\u001b[0m                                 Traceback (most recent call last)",
      "Cell \u001b[0;32mIn[7], line 1\u001b[0m\n\u001b[0;32m----> 1\u001b[0m s \u001b[38;5;241m=\u001b[39m{\u001b[38;5;241m2\u001b[39m,\u001b[38;5;241m4\u001b[39m,\u001b[38;5;241m6\u001b[39m,\u001b[38;5;241m8\u001b[39m, {\u001b[38;5;241m4\u001b[39m,\u001b[38;5;241m5\u001b[39m,\u001b[38;5;241m6\u001b[39m}}\n\u001b[1;32m      2\u001b[0m \u001b[38;5;66;03m#it is a unhashable type>>it is a mutable list\u001b[39;00m\n\u001b[1;32m      3\u001b[0m \u001b[38;5;66;03m#It will throw a error\u001b[39;00m\n",
      "\u001b[0;31mTypeError\u001b[0m: unhashable type: 'set'"
     ]
    }
   ],
   "source": [
    "s ={2,4,6,8, {4,5,6}}\n",
    "#it is a unhashable type>>it is a mutable list\n",
    "#It will throw a error"
   ]
  },
  {
   "cell_type": "code",
   "execution_count": 8,
   "id": "8153aa10-cf7f-4f78-bae7-d516198acaa4",
   "metadata": {},
   "outputs": [],
   "source": [
    "s = {1, 2, 3, 4, 5, (4, 5, 6)}#it did'nt throw error,because tuple is immutable>stable hashtype"
   ]
  },
  {
   "cell_type": "code",
   "execution_count": 9,
   "id": "c5d07869-c918-472d-876d-2f8bc8dfffcd",
   "metadata": {},
   "outputs": [
    {
     "data": {
      "text/plain": [
       "{(4, 5, 6), 1, 2, 3, 4, 5}"
      ]
     },
     "execution_count": 9,
     "metadata": {},
     "output_type": "execute_result"
    }
   ],
   "source": [
    "s"
   ]
  },
  {
   "cell_type": "code",
   "execution_count": 10,
   "id": "1a6ae3c5-0013-45b4-94f6-0e349c70f474",
   "metadata": {},
   "outputs": [],
   "source": [
    "s = {5,5,10,10,20,20,20,30,30,50,40,40}"
   ]
  },
  {
   "cell_type": "code",
   "execution_count": 11,
   "id": "5ff1c88b-0c3a-42f7-ab31-255e035a5af8",
   "metadata": {},
   "outputs": [
    {
     "data": {
      "text/plain": [
       "{5, 10, 20, 30, 40, 50}"
      ]
     },
     "execution_count": 11,
     "metadata": {},
     "output_type": "execute_result"
    }
   ],
   "source": [
    "s"
   ]
  },
  {
   "cell_type": "code",
   "execution_count": 12,
   "id": "c9f70fe5-77c9-40cf-bd68-526b34159ab5",
   "metadata": {},
   "outputs": [],
   "source": [
    "#if we have to add an item in set\n",
    "s.add(100)"
   ]
  },
  {
   "cell_type": "code",
   "execution_count": 13,
   "id": "7c186f9e-e3e9-4885-8c04-64909d088330",
   "metadata": {},
   "outputs": [
    {
     "data": {
      "text/plain": [
       "{5, 10, 20, 30, 40, 50, 100}"
      ]
     },
     "execution_count": 13,
     "metadata": {},
     "output_type": "execute_result"
    }
   ],
   "source": [
    "s"
   ]
  },
  {
   "cell_type": "code",
   "execution_count": 14,
   "id": "95621b8b-3ad5-4933-94eb-e733809baf56",
   "metadata": {},
   "outputs": [
    {
     "data": {
      "text/plain": [
       "50"
      ]
     },
     "execution_count": 14,
     "metadata": {},
     "output_type": "execute_result"
    }
   ],
   "source": [
    "s.pop()#it is not compulsory that it will remove last element from the set,it removes randomly"
   ]
  },
  {
   "cell_type": "code",
   "execution_count": 15,
   "id": "8121dce5-4d27-4875-998b-a24a832e6c7d",
   "metadata": {},
   "outputs": [
    {
     "data": {
      "text/plain": [
       "{5, 10, 20, 30, 40, 100}"
      ]
     },
     "execution_count": 15,
     "metadata": {},
     "output_type": "execute_result"
    }
   ],
   "source": [
    "s"
   ]
  },
  {
   "cell_type": "code",
   "execution_count": 16,
   "id": "bd85ca48-2591-482f-b001-6d8866d03566",
   "metadata": {},
   "outputs": [
    {
     "ename": "TypeError",
     "evalue": "set.pop() takes no arguments (1 given)",
     "output_type": "error",
     "traceback": [
      "\u001b[0;31m---------------------------------------------------------------------------\u001b[0m",
      "\u001b[0;31mTypeError\u001b[0m                                 Traceback (most recent call last)",
      "Cell \u001b[0;32mIn[16], line 1\u001b[0m\n\u001b[0;32m----> 1\u001b[0m \u001b[43ms\u001b[49m\u001b[38;5;241;43m.\u001b[39;49m\u001b[43mpop\u001b[49m\u001b[43m(\u001b[49m\u001b[38;5;241;43m5\u001b[39;49m\u001b[43m)\u001b[49m\n\u001b[1;32m      2\u001b[0m s\n",
      "\u001b[0;31mTypeError\u001b[0m: set.pop() takes no arguments (1 given)"
     ]
    }
   ],
   "source": [
    "s.pop(5)#it removes randomly\n",
    "s"
   ]
  },
  {
   "cell_type": "code",
   "execution_count": 17,
   "id": "339fca7f-33e0-4e63-8771-e2c872902656",
   "metadata": {},
   "outputs": [
    {
     "data": {
      "text/plain": [
       "{10, 100, 20, 30, 40, 5, 'Y', 'i', 'u', 'v'}"
      ]
     },
     "execution_count": 17,
     "metadata": {},
     "output_type": "execute_result"
    }
   ],
   "source": [
    "s.update(\"Yuvi\")#updates take iterable\n",
    "s"
   ]
  },
  {
   "cell_type": "code",
   "execution_count": 18,
   "id": "04fa2096-a31d-4c39-992b-967fbcde452a",
   "metadata": {},
   "outputs": [
    {
     "data": {
      "text/plain": [
       "{10, 100, 20, 30, 40, 5, 'Aaryan', 'Y', 'i', 'u', 'v'}"
      ]
     },
     "execution_count": 18,
     "metadata": {},
     "output_type": "execute_result"
    }
   ],
   "source": [
    "s.update([\"Aaryan\"])\n",
    "s"
   ]
  },
  {
   "cell_type": "code",
   "execution_count": 21,
   "id": "a9320337-9c41-4894-a59f-09d5df75540e",
   "metadata": {},
   "outputs": [],
   "source": [
    "#to clear elements in set\n",
    "s.clear()"
   ]
  },
  {
   "cell_type": "code",
   "execution_count": 22,
   "id": "0d1d51be-f120-42f9-be43-a3bbdf6b2f11",
   "metadata": {},
   "outputs": [
    {
     "data": {
      "text/plain": [
       "set()"
      ]
     },
     "execution_count": 22,
     "metadata": {},
     "output_type": "execute_result"
    }
   ],
   "source": [
    "s"
   ]
  },
  {
   "cell_type": "code",
   "execution_count": 23,
   "id": "23c65db2-f9e6-40f6-b283-132449991501",
   "metadata": {},
   "outputs": [],
   "source": [
    "#to delete the whole set\n",
    "del s"
   ]
  },
  {
   "cell_type": "code",
   "execution_count": 25,
   "id": "277ef7be-029f-45f7-b854-cb7741801605",
   "metadata": {},
   "outputs": [
    {
     "ename": "NameError",
     "evalue": "name 's' is not defined",
     "output_type": "error",
     "traceback": [
      "\u001b[0;31m---------------------------------------------------------------------------\u001b[0m",
      "\u001b[0;31mNameError\u001b[0m                                 Traceback (most recent call last)",
      "Cell \u001b[0;32mIn[25], line 1\u001b[0m\n\u001b[0;32m----> 1\u001b[0m \u001b[43ms\u001b[49m\u001b[38;5;66;03m#throws a error because it is deleted.\u001b[39;00m\n",
      "\u001b[0;31mNameError\u001b[0m: name 's' is not defined"
     ]
    }
   ],
   "source": [
    "s#throws a error because it is deleted."
   ]
  },
  {
   "cell_type": "code",
   "execution_count": 26,
   "id": "cb499e83-c8f8-4498-9fc0-e0a9e1e7763e",
   "metadata": {},
   "outputs": [],
   "source": [
    "s = {(1,2,3), 100, 102 ,101,'2',3.4}"
   ]
  },
  {
   "cell_type": "code",
   "execution_count": 27,
   "id": "f766e869-5a93-486b-80ab-0044270279dd",
   "metadata": {},
   "outputs": [
    {
     "data": {
      "text/plain": [
       "{(1, 2, 3), 100, 101, '2', 3.4}"
      ]
     },
     "execution_count": 27,
     "metadata": {},
     "output_type": "execute_result"
    }
   ],
   "source": [
    "#to remove a element\n",
    "s.remove(102)\n",
    "s"
   ]
  },
  {
   "cell_type": "code",
   "execution_count": 35,
   "id": "0f21353c-c882-4544-8a48-fc6aafd87bf9",
   "metadata": {},
   "outputs": [],
   "source": [
    "#set operations\n",
    "#Union\n",
    "s1 = {\"Mango\",\"Apple\",\"Banana\",\"lichies\"}\n",
    "s2 = {\"Kiwi\",\"Peaches\",\"lichies\",\"Mango\"}"
   ]
  },
  {
   "cell_type": "code",
   "execution_count": 29,
   "id": "600c201d-d173-465e-8d02-3dbc0d613487",
   "metadata": {},
   "outputs": [
    {
     "data": {
      "text/plain": [
       "['Mango', 'Apple', 'Banana']"
      ]
     },
     "execution_count": 29,
     "metadata": {},
     "output_type": "execute_result"
    }
   ],
   "source": [
    "s1"
   ]
  },
  {
   "cell_type": "code",
   "execution_count": 30,
   "id": "c9fcd382-9a43-49e8-b2c5-c492ee835d7b",
   "metadata": {},
   "outputs": [
    {
     "data": {
      "text/plain": [
       "['Kiwi', 'Peaches', 'Mango']"
      ]
     },
     "execution_count": 30,
     "metadata": {},
     "output_type": "execute_result"
    }
   ],
   "source": [
    "s2"
   ]
  },
  {
   "cell_type": "code",
   "execution_count": 36,
   "id": "bb3ebb21-781d-4d4a-8671-253c9b172b75",
   "metadata": {},
   "outputs": [
    {
     "data": {
      "text/plain": [
       "{'Apple', 'Banana', 'Kiwi', 'Mango', 'Peaches', 'lichies'}"
      ]
     },
     "execution_count": 36,
     "metadata": {},
     "output_type": "execute_result"
    }
   ],
   "source": [
    "s1|s2"
   ]
  },
  {
   "cell_type": "code",
   "execution_count": 34,
   "id": "1f10b354-c495-4208-bdfc-3d2427356d71",
   "metadata": {},
   "outputs": [],
   "source": [
    "#all elements of set s1 and s2 will be thrown."
   ]
  },
  {
   "cell_type": "code",
   "execution_count": 37,
   "id": "e1e5f796-85f8-49d1-a95e-bfdecf9d8883",
   "metadata": {},
   "outputs": [
    {
     "data": {
      "text/plain": [
       "{'Mango', 'lichies'}"
      ]
     },
     "execution_count": 37,
     "metadata": {},
     "output_type": "execute_result"
    }
   ],
   "source": [
    "#intersection>> all common elements\n",
    "s1&s2"
   ]
  },
  {
   "cell_type": "code",
   "execution_count": 38,
   "id": "a70e8189-4a32-4870-b41a-9137d5e6e562",
   "metadata": {},
   "outputs": [
    {
     "data": {
      "text/plain": [
       "{'Apple', 'Banana'}"
      ]
     },
     "execution_count": 38,
     "metadata": {},
     "output_type": "execute_result"
    }
   ],
   "source": [
    "#difference\n",
    "s1-s2"
   ]
  },
  {
   "cell_type": "code",
   "execution_count": 39,
   "id": "ac241ee6-2704-47e5-a8ca-1c74c4c72f70",
   "metadata": {},
   "outputs": [
    {
     "data": {
      "text/plain": [
       "{'Apple', 'Banana', 'Kiwi', 'Peaches'}"
      ]
     },
     "execution_count": 39,
     "metadata": {},
     "output_type": "execute_result"
    }
   ],
   "source": [
    "#symmetric diffrence\n",
    "s1^s2"
   ]
  },
  {
   "cell_type": "code",
   "execution_count": 40,
   "id": "30181c9b-23a2-474a-8d2c-894807c452ff",
   "metadata": {},
   "outputs": [],
   "source": [
    "#frozen sets>> immutable version of set,can not be added or removed any new element\n",
    "fz_set = frozenset([11,22,33,33,44,11,22,33,44])"
   ]
  },
  {
   "cell_type": "code",
   "execution_count": 41,
   "id": "975d9173-89dd-4791-b32a-3a4af31aa081",
   "metadata": {},
   "outputs": [
    {
     "data": {
      "text/plain": [
       "frozenset({11, 22, 33, 44})"
      ]
     },
     "execution_count": 41,
     "metadata": {},
     "output_type": "execute_result"
    }
   ],
   "source": [
    "fz_set"
   ]
  },
  {
   "cell_type": "code",
   "execution_count": 42,
   "id": "5450daf1-3930-4433-bf61-0c461207018f",
   "metadata": {},
   "outputs": [
    {
     "data": {
      "text/plain": [
       "frozenset"
      ]
     },
     "execution_count": 42,
     "metadata": {},
     "output_type": "execute_result"
    }
   ],
   "source": [
    "type(fz_set)"
   ]
  },
  {
   "cell_type": "code",
   "execution_count": 43,
   "id": "6e381944-ad7c-413f-bf6b-ff62599dbdd6",
   "metadata": {},
   "outputs": [
    {
     "ename": "AttributeError",
     "evalue": "'frozenset' object has no attribute 'add'",
     "output_type": "error",
     "traceback": [
      "\u001b[0;31m---------------------------------------------------------------------------\u001b[0m",
      "\u001b[0;31mAttributeError\u001b[0m                            Traceback (most recent call last)",
      "Cell \u001b[0;32mIn[43], line 1\u001b[0m\n\u001b[0;32m----> 1\u001b[0m \u001b[43mfz_set\u001b[49m\u001b[38;5;241;43m.\u001b[39;49m\u001b[43madd\u001b[49m(\u001b[38;5;241m55\u001b[39m,\u001b[38;5;241m66\u001b[39m)\u001b[38;5;66;03m#it will throw a error because these are immutable \u001b[39;00m\n",
      "\u001b[0;31mAttributeError\u001b[0m: 'frozenset' object has no attribute 'add'"
     ]
    }
   ],
   "source": [
    "fz_set.add(55,66)#it will throw a error because these are immutable "
   ]
  },
  {
   "cell_type": "code",
   "execution_count": 44,
   "id": "2dea490d-a79f-4bbc-bb42-34d675152e5b",
   "metadata": {},
   "outputs": [],
   "source": [
    "#Q6 Discuss the use cases of tuples and sets in Python programming.\n",
    "\n",
    "# Tuples is used a data structure where you don't want to modify the data after the creation.\n",
    "tuple1 = (\"pwskills\", 1, 1, 1, 2, 2.2,\"pwskills\")"
   ]
  },
  {
   "cell_type": "code",
   "execution_count": 46,
   "id": "5ffc784c-6e18-4a49-8082-d0df54002c2b",
   "metadata": {},
   "outputs": [
    {
     "data": {
      "text/plain": [
       "tuple"
      ]
     },
     "execution_count": 46,
     "metadata": {},
     "output_type": "execute_result"
    }
   ],
   "source": [
    "type(tuple1)"
   ]
  },
  {
   "cell_type": "code",
   "execution_count": 47,
   "id": "e6c914c5-5d4a-43df-aa14-da4114d19cb9",
   "metadata": {},
   "outputs": [
    {
     "ename": "TypeError",
     "evalue": "'tuple' object does not support item assignment",
     "output_type": "error",
     "traceback": [
      "\u001b[0;31m---------------------------------------------------------------------------\u001b[0m",
      "\u001b[0;31mTypeError\u001b[0m                                 Traceback (most recent call last)",
      "Cell \u001b[0;32mIn[47], line 1\u001b[0m\n\u001b[0;32m----> 1\u001b[0m \u001b[43mtuple1\u001b[49m\u001b[43m[\u001b[49m\u001b[38;5;241;43m0\u001b[39;49m\u001b[43m]\u001b[49m \u001b[38;5;241m=\u001b[39m \u001b[38;5;241m100\u001b[39m\u001b[38;5;66;03m#throws an error because these are immutable\u001b[39;00m\n",
      "\u001b[0;31mTypeError\u001b[0m: 'tuple' object does not support item assignment"
     ]
    }
   ],
   "source": [
    "tuple1[0] = 100#throws an error because these are immutable"
   ]
  },
  {
   "cell_type": "code",
   "execution_count": 49,
   "id": "c21d4bcb-df61-48d6-be9d-4c2843563875",
   "metadata": {},
   "outputs": [
    {
     "name": "stdout",
     "output_type": "stream",
     "text": [
      "('pwskills', 1, 1, 1, 2, 2.2, 'pwskills', 'pwskills', 1, 1, 1, 2, 2.2, 'pwskills', 'pwskills', 1, 1, 1, 2, 2.2, 'pwskills')\n"
     ]
    }
   ],
   "source": [
    "print(tuple1*3)#print the tuple three times"
   ]
  },
  {
   "cell_type": "code",
   "execution_count": 50,
   "id": "da59a75d-00f7-4c3c-84ed-64135358e64a",
   "metadata": {},
   "outputs": [],
   "source": [
    "#nested tuples\n",
    "t1 =(1,2,3,4,5,6,7)\n",
    "t2 =(100,200,300,400,500)\n"
   ]
  },
  {
   "cell_type": "code",
   "execution_count": 51,
   "id": "2787f65f-f448-4da2-b76b-15c78e85dd35",
   "metadata": {},
   "outputs": [
    {
     "data": {
      "text/plain": [
       "(1, 2, 3, 4, 5, 6, 7)"
      ]
     },
     "execution_count": 51,
     "metadata": {},
     "output_type": "execute_result"
    }
   ],
   "source": [
    "t1"
   ]
  },
  {
   "cell_type": "code",
   "execution_count": 52,
   "id": "c7a28062-d381-41c4-87a1-05a018db83d8",
   "metadata": {},
   "outputs": [
    {
     "data": {
      "text/plain": [
       "(100, 200, 300, 400, 500)"
      ]
     },
     "execution_count": 52,
     "metadata": {},
     "output_type": "execute_result"
    }
   ],
   "source": [
    "t2"
   ]
  },
  {
   "cell_type": "code",
   "execution_count": 55,
   "id": "5b9e26c8-b206-4627-8e4b-79866b993bbf",
   "metadata": {},
   "outputs": [],
   "source": [
    "t3 = (t1, t2)"
   ]
  },
  {
   "cell_type": "code",
   "execution_count": 56,
   "id": "5dc2ada8-0311-40af-b68f-d8b8c0cf6fdb",
   "metadata": {},
   "outputs": [
    {
     "data": {
      "text/plain": [
       "((1, 2, 3, 4, 5, 6, 7), (100, 200, 300, 400, 500))"
      ]
     },
     "execution_count": 56,
     "metadata": {},
     "output_type": "execute_result"
    }
   ],
   "source": [
    "t3"
   ]
  },
  {
   "cell_type": "code",
   "execution_count": 58,
   "id": "5deb6900-ba7f-47c3-8c93-5ff6548528e4",
   "metadata": {},
   "outputs": [],
   "source": [
    "#Sets are fundamental data structures.There are many key features of sets :\n",
    "#Sets are mutable it means that the after the creation of sets it can be modified.We can add or remove elements from sets after the creation\n",
    "#but set inside set must be immutable.\n",
    "nom = {1, 2, 3, 4, 5, (4, 5, 6)}"
   ]
  },
  {
   "cell_type": "code",
   "execution_count": 60,
   "id": "cc33a6e3-ecd4-491c-b6ed-97fa8611a42b",
   "metadata": {},
   "outputs": [],
   "source": [
    "nom.add(100)"
   ]
  },
  {
   "cell_type": "code",
   "execution_count": 61,
   "id": "edb2f3b8-4be7-4733-b545-0c41717211d8",
   "metadata": {},
   "outputs": [
    {
     "data": {
      "text/plain": [
       "{(4, 5, 6), 1, 100, 2, 3, 4, 5}"
      ]
     },
     "execution_count": 61,
     "metadata": {},
     "output_type": "execute_result"
    }
   ],
   "source": [
    "nom"
   ]
  },
  {
   "cell_type": "code",
   "execution_count": 68,
   "id": "503edb82-6206-4a34-b166-36416024efbf",
   "metadata": {},
   "outputs": [],
   "source": [
    "nom.remove(100)"
   ]
  },
  {
   "cell_type": "code",
   "execution_count": 69,
   "id": "2cac44f5-a8c2-465f-a120-8d6151ecc365",
   "metadata": {},
   "outputs": [
    {
     "data": {
      "text/plain": [
       "{(4, 5, 6), 1, 2, 3, 4, 5}"
      ]
     },
     "execution_count": 69,
     "metadata": {},
     "output_type": "execute_result"
    }
   ],
   "source": [
    "nom"
   ]
  },
  {
   "cell_type": "code",
   "execution_count": 70,
   "id": "87e2050e-1d1b-4ef6-86ba-88bf1ba785e6",
   "metadata": {},
   "outputs": [
    {
     "data": {
      "text/plain": [
       "1"
      ]
     },
     "execution_count": 70,
     "metadata": {},
     "output_type": "execute_result"
    }
   ],
   "source": [
    "nom.pop()"
   ]
  },
  {
   "cell_type": "code",
   "execution_count": 71,
   "id": "e336d505-dc86-4db8-b832-1516dde91a71",
   "metadata": {},
   "outputs": [],
   "source": [
    "nom.update([\"Aaryan\"])"
   ]
  },
  {
   "cell_type": "code",
   "execution_count": 72,
   "id": "4e332cf0-5a04-4fea-ab31-ae1c7d7e1d1e",
   "metadata": {},
   "outputs": [
    {
     "data": {
      "text/plain": [
       "{(4, 5, 6), 2, 3, 4, 5, 'Aaryan'}"
      ]
     },
     "execution_count": 72,
     "metadata": {},
     "output_type": "execute_result"
    }
   ],
   "source": [
    "nom"
   ]
  },
  {
   "cell_type": "code",
   "execution_count": 73,
   "id": "ae94d7f4-aef9-4a74-a8eb-6b1d603009ff",
   "metadata": {},
   "outputs": [
    {
     "data": {
      "text/plain": [
       "<function set.clear>"
      ]
     },
     "execution_count": 73,
     "metadata": {},
     "output_type": "execute_result"
    }
   ],
   "source": [
    "nom.clear"
   ]
  },
  {
   "cell_type": "code",
   "execution_count": 74,
   "id": "b01aa075-ca13-4fc1-acde-22fa1c20185e",
   "metadata": {},
   "outputs": [],
   "source": [
    "del nom"
   ]
  },
  {
   "cell_type": "code",
   "execution_count": 75,
   "id": "443017fb-b15a-4577-8b48-cc6de8db21fa",
   "metadata": {},
   "outputs": [
    {
     "ename": "NameError",
     "evalue": "name 'nom' is not defined",
     "output_type": "error",
     "traceback": [
      "\u001b[0;31m---------------------------------------------------------------------------\u001b[0m",
      "\u001b[0;31mNameError\u001b[0m                                 Traceback (most recent call last)",
      "Cell \u001b[0;32mIn[75], line 1\u001b[0m\n\u001b[0;32m----> 1\u001b[0m \u001b[43mnom\u001b[49m\n",
      "\u001b[0;31mNameError\u001b[0m: name 'nom' is not defined"
     ]
    }
   ],
   "source": [
    "nom"
   ]
  },
  {
   "cell_type": "code",
   "execution_count": 76,
   "id": "7793bbc1-dce0-464f-9715-09f5d901c504",
   "metadata": {},
   "outputs": [],
   "source": [
    "#Describe how to add,modify, and delete items in a dictionary eith examples.\n",
    "\n",
    "#Dicyionary is a data structure that stores data as a key value pair\n",
    "#keys are unique and immutable\n",
    "d = {\"name\":\"Aaryan\",\"Email\":\"patyalaaryan@gmail.com\",\"contact\":1234}"
   ]
  },
  {
   "cell_type": "code",
   "execution_count": 77,
   "id": "74139b6d-a98c-48ed-8679-ad51a9e4955f",
   "metadata": {},
   "outputs": [
    {
     "data": {
      "text/plain": [
       "dict"
      ]
     },
     "execution_count": 77,
     "metadata": {},
     "output_type": "execute_result"
    }
   ],
   "source": [
    "type(d)"
   ]
  },
  {
   "cell_type": "code",
   "execution_count": 78,
   "id": "ad356095-75cd-4947-983f-aa3f5073d4dc",
   "metadata": {},
   "outputs": [
    {
     "data": {
      "text/plain": [
       "{'name': 'Aaryan', 'Email': 'patyalaaryan@gmail.com', 'contact': 1234}"
      ]
     },
     "execution_count": 78,
     "metadata": {},
     "output_type": "execute_result"
    }
   ],
   "source": [
    "d"
   ]
  },
  {
   "cell_type": "code",
   "execution_count": 79,
   "id": "9b818d54-96ad-4528-aa95-26475c93478b",
   "metadata": {},
   "outputs": [],
   "source": [
    "#to modify in dictonaries\n",
    "d[\"name\"] = \"Rohit\""
   ]
  },
  {
   "cell_type": "code",
   "execution_count": 80,
   "id": "fda0832e-563e-4fbd-aa05-b3117360d154",
   "metadata": {},
   "outputs": [
    {
     "data": {
      "text/plain": [
       "{'name': 'Rohit', 'Email': 'patyalaaryan@gmail.com', 'contact': 1234}"
      ]
     },
     "execution_count": 80,
     "metadata": {},
     "output_type": "execute_result"
    }
   ],
   "source": [
    "d"
   ]
  },
  {
   "cell_type": "code",
   "execution_count": 81,
   "id": "768964d6-6a4c-41e2-a123-c3d749670be0",
   "metadata": {},
   "outputs": [],
   "source": [
    "d[\"Email\"]=\"rj568@gmail.com\""
   ]
  },
  {
   "cell_type": "code",
   "execution_count": 82,
   "id": "7bffca23-a865-4531-91cc-6b56d3295ea4",
   "metadata": {},
   "outputs": [
    {
     "data": {
      "text/plain": [
       "{'name': 'Rohit', 'Email': 'rj568@gmail.com', 'contact': 1234}"
      ]
     },
     "execution_count": 82,
     "metadata": {},
     "output_type": "execute_result"
    }
   ],
   "source": [
    "d"
   ]
  },
  {
   "cell_type": "code",
   "execution_count": 84,
   "id": "36476e78-4ddd-4953-8cb2-c0fd29dde4ca",
   "metadata": {},
   "outputs": [],
   "source": [
    "#to add new value key pair\n",
    "d2 = d = {\"name\":\"Aaryan\",\"Email\":\"patyalaaryan@gmail.com\",\"contact\":1234}"
   ]
  },
  {
   "cell_type": "code",
   "execution_count": 85,
   "id": "dd96a75b-0d45-4d9c-ac82-d6c0a2f1ef0c",
   "metadata": {},
   "outputs": [],
   "source": [
    "d2[\"address\"] = \"xyz street 123 road,HP\""
   ]
  },
  {
   "cell_type": "code",
   "execution_count": 86,
   "id": "e1724c9e-593e-4277-a70d-6bc18250b9dc",
   "metadata": {},
   "outputs": [
    {
     "data": {
      "text/plain": [
       "{'name': 'Aaryan',\n",
       " 'Email': 'patyalaaryan@gmail.com',\n",
       " 'contact': 1234,\n",
       " 'address': 'xyz street 123 road,HP'}"
      ]
     },
     "execution_count": 86,
     "metadata": {},
     "output_type": "execute_result"
    }
   ],
   "source": [
    "d2"
   ]
  },
  {
   "cell_type": "code",
   "execution_count": 90,
   "id": "3626aefa-d951-4868-b536-636918747078",
   "metadata": {},
   "outputs": [],
   "source": [
    "#to delete a key value pair\n",
    "del d2[\"Email\"]"
   ]
  },
  {
   "cell_type": "code",
   "execution_count": 92,
   "id": "07cb69bd-b709-4333-a485-f257b196616b",
   "metadata": {},
   "outputs": [
    {
     "data": {
      "text/plain": [
       "{'name': 'Aaryan', 'contact': 1234, 'address': 'xyz street 123 road,HP'}"
      ]
     },
     "execution_count": 92,
     "metadata": {},
     "output_type": "execute_result"
    }
   ],
   "source": [
    "d2#email will be deleted"
   ]
  },
  {
   "cell_type": "code",
   "execution_count": 93,
   "id": "5fd98889-da87-4fae-8411-8ae267d23f27",
   "metadata": {},
   "outputs": [],
   "source": [
    "#to delete thw whole dictionary\n",
    "del d2"
   ]
  },
  {
   "cell_type": "code",
   "execution_count": 94,
   "id": "83487864-e82a-4603-ad66-27963c0ed266",
   "metadata": {},
   "outputs": [
    {
     "ename": "NameError",
     "evalue": "name 'd2' is not defined",
     "output_type": "error",
     "traceback": [
      "\u001b[0;31m---------------------------------------------------------------------------\u001b[0m",
      "\u001b[0;31mNameError\u001b[0m                                 Traceback (most recent call last)",
      "Cell \u001b[0;32mIn[94], line 1\u001b[0m\n\u001b[0;32m----> 1\u001b[0m \u001b[43md2\u001b[49m\n",
      "\u001b[0;31mNameError\u001b[0m: name 'd2' is not defined"
     ]
    }
   ],
   "source": [
    "d2#it will throw a error because d2 is deleted"
   ]
  },
  {
   "cell_type": "code",
   "execution_count": 95,
   "id": "168fa0d5-67fc-4d78-a1be-94db033b8b70",
   "metadata": {},
   "outputs": [],
   "source": [
    "#Q8 Discuss the importance of dictionary keys being immutable and provide examples.\n",
    "\n",
    "#Dictionary keys in python must be immutable.\n",
    "#Dictionary keys in Python are required to be hashable, meaning they must have a hash value that does not change during its\n",
    "#lifetime (it remains constant). Immutable objects like integers, floats, strings, and tuples are hashable because their hash value is \n",
    "#computed based on their contents, which are fixed.\n",
    "\n",
    "#If a dictionary key were mutable, and its hash value changed after it was used as a key in a dictionary, the dictionary would fail to find\n",
    "#the corresponding value for that key. This inconsistency would lead to unpredictable behavior and potentially incorrect results.\n",
    "\n",
    "#Hash tables, which Python dictionaries are implemented with, rely on the assumption that keys are immutable and hashable. This assumption \n",
    "#allows for efficient retrieval and storage of key-value pairs. Mutable keys would complicate this mechanism and degrade performance.\n",
    "d = {\"name\":[\"Aaryan\",\"Ajay\",1,2],\"Email\":\"patyalaaryan@gmail.com\",\"contact\":(1234,678)}"
   ]
  },
  {
   "cell_type": "code",
   "execution_count": 96,
   "id": "f7ec6399-abbe-4cee-9d8f-d4f590671c24",
   "metadata": {},
   "outputs": [
    {
     "data": {
      "text/plain": [
       "{'name': ['Aaryan', 'Ajay', 1, 2],\n",
       " 'Email': 'patyalaaryan@gmail.com',\n",
       " 'contact': (1234, 678)}"
      ]
     },
     "execution_count": 96,
     "metadata": {},
     "output_type": "execute_result"
    }
   ],
   "source": [
    "d"
   ]
  },
  {
   "cell_type": "code",
   "execution_count": 97,
   "id": "01b87f8f-d559-4c4f-90b9-07c9b63b005f",
   "metadata": {},
   "outputs": [
    {
     "data": {
      "text/plain": [
       "'patyalaaryan@gmail.com'"
      ]
     },
     "execution_count": 97,
     "metadata": {},
     "output_type": "execute_result"
    }
   ],
   "source": [
    "#you can only access value using key,vice-versa not possible\n",
    "d[\"Email\"]"
   ]
  },
  {
   "cell_type": "code",
   "execution_count": 99,
   "id": "cdd5a8ad-0cfb-40a1-ba9a-b474e147f9a0",
   "metadata": {},
   "outputs": [
    {
     "data": {
      "text/plain": [
       "{1: 'abc'}"
      ]
     },
     "execution_count": 99,
     "metadata": {},
     "output_type": "execute_result"
    }
   ],
   "source": [
    "#rules of defining keys\n",
    "d1= {1:\"abc\"}#integer as a key\n",
    "d1"
   ]
  },
  {
   "cell_type": "code",
   "execution_count": 100,
   "id": "648d39fb-d8ac-430f-9ef3-9366f4d90757",
   "metadata": {},
   "outputs": [
    {
     "data": {
      "text/plain": [
       "{1.2: 'abc'}"
      ]
     },
     "execution_count": 100,
     "metadata": {},
     "output_type": "execute_result"
    }
   ],
   "source": [
    "d = {1.2:\"abc\"}#float as a key\n",
    "d"
   ]
  },
  {
   "cell_type": "code",
   "execution_count": 101,
   "id": "d0f26ef0-1636-46b2-9a47-146bb599aff1",
   "metadata": {},
   "outputs": [
    {
     "data": {
      "text/plain": [
       "{True: 'any value'}"
      ]
     },
     "execution_count": 101,
     "metadata": {},
     "output_type": "execute_result"
    }
   ],
   "source": [
    "d = {True:\"any value\"}\n",
    "d#boolean value can also be key of dictionary"
   ]
  },
  {
   "cell_type": "code",
   "execution_count": 102,
   "id": "e058a612-90c6-4269-8602-92dfc708c756",
   "metadata": {},
   "outputs": [],
   "source": [
    "#use case\n",
    "user_id = [1,2,3]\n",
    "user_name = [\"a21\",\"a22\",\"a23\"]"
   ]
  },
  {
   "cell_type": "code",
   "execution_count": 103,
   "id": "b0fc1f2c-bcd4-4df9-ba67-a3998085cf22",
   "metadata": {},
   "outputs": [
    {
     "data": {
      "text/plain": [
       "{1: 'a21', 2: 'a22', 3: 'a23'}"
      ]
     },
     "execution_count": 103,
     "metadata": {},
     "output_type": "execute_result"
    }
   ],
   "source": [
    "{u_id:u_name for u_id, u_name in zip(user_id, user_name)}"
   ]
  },
  {
   "cell_type": "code",
   "execution_count": null,
   "id": "7a63871a-a0ce-4179-93fa-ed6a00b8ec54",
   "metadata": {},
   "outputs": [],
   "source": []
  }
 ],
 "metadata": {
  "kernelspec": {
   "display_name": "Python 3 (ipykernel)",
   "language": "python",
   "name": "python3"
  },
  "language_info": {
   "codemirror_mode": {
    "name": "ipython",
    "version": 3
   },
   "file_extension": ".py",
   "mimetype": "text/x-python",
   "name": "python",
   "nbconvert_exporter": "python",
   "pygments_lexer": "ipython3",
   "version": "3.10.8"
  }
 },
 "nbformat": 4,
 "nbformat_minor": 5
}
